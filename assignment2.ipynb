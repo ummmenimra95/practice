{
 "cells": [
  {
   "cell_type": "code",
   "execution_count": 7,
   "metadata": {},
   "outputs": [
    {
     "name": "stdout",
     "output_type": "stream",
     "text": [
      "Enter marks of the maths subject:94\n",
      "Enter marks of the Urdu subject:90\n",
      "Enter marks of the English subject:75\n",
      "Enter marks of the Islamiat subject:90\n",
      "Enter marks of the Science subject:85\n",
      "434\n",
      "86.8\n",
      "your grade is A+\n"
     ]
    }
   ],
   "source": [
    "Maths=int(input(\"Enter marks of the maths subject:\"));\n",
    "Urdu=int(input(\"Enter marks of the Urdu subject:\"));\n",
    "English=int(input(\"Enter marks of the English subject:\"));\n",
    "Islamiat=int(input(\"Enter marks of the Islamiat subject:\"));\n",
    "Science=int(input(\"Enter marks of the Science subject:\"));\n",
    "total= Maths+Urdu+English+Islamiat+Science;\n",
    "print(total);\n",
    "avg=total/5\n",
    "print(avg)\n",
    "if (avg>=80) :\n",
    "    print(\"your grade is A+\")\n",
    "elif (avg>=70 ):\n",
    "     print(\"your grade is A\")\n",
    "elif (avg>=60) :\n",
    "     print(\"your grade is B\")\n",
    "elif (avg>=50 ):\n",
    "     print(\"your grade is C\")\n",
    "elif (avg>=40 ):\n",
    "     print(\"your grade is D\")\n",
    "else :\n",
    "     print(\"your grade is Fail\")\n",
    "    \n",
    "    \n",
    "    "
   ]
  },
  {
   "cell_type": "code",
   "execution_count": 19,
   "metadata": {},
   "outputs": [
    {
     "name": "stdout",
     "output_type": "stream",
     "text": [
      "Enter a any number:143\n",
      "The num is odd\n"
     ]
    }
   ],
   "source": [
    "num = int(input(\"Enter a any number:\"));\n",
    "if num % 2 == 0 :\n",
    " print(\"the num is even\")\n",
    "else:\n",
    "    print(\"The num is odd\")"
   ]
  },
  {
   "cell_type": "code",
   "execution_count": 20,
   "metadata": {},
   "outputs": [
    {
     "name": "stdout",
     "output_type": "stream",
     "text": [
      "The length of list is 6\n"
     ]
    }
   ],
   "source": [
    "list = len([0,2,4,6,8,10])\n",
    "print(\"The length of list is\",list)\n",
    "\n"
   ]
  },
  {
   "cell_type": "code",
   "execution_count": 23,
   "metadata": {},
   "outputs": [
    {
     "name": "stdout",
     "output_type": "stream",
     "text": [
      "The largest number in a numeric list is : 90\n"
     ]
    }
   ],
   "source": [
    "num_list = [5,10,15,20,90,40,80]\n",
    "print(\"The largest number in a numeric list is :\",max(num_list))\n"
   ]
  },
  {
   "cell_type": "code",
   "execution_count": 26,
   "metadata": {},
   "outputs": [
    {
     "name": "stdout",
     "output_type": "stream",
     "text": [
      "Sum of the numeric items in a list is  34\n"
     ]
    }
   ],
   "source": [
    "list =[5,2,7,5,9,6,]\n",
    "print(\"Sum of the numeric items in a list is \",sum(list))"
   ]
  },
  {
   "cell_type": "code",
   "execution_count": 6,
   "metadata": {},
   "outputs": [
    {
     "ename": "IndentationError",
     "evalue": "unindent does not match any outer indentation level (<tokenize>, line 5)",
     "output_type": "error",
     "traceback": [
      "\u001b[1;36m  File \u001b[1;32m\"<tokenize>\"\u001b[1;36m, line \u001b[1;32m5\u001b[0m\n\u001b[1;33m    print(i)\u001b[0m\n\u001b[1;37m    ^\u001b[0m\n\u001b[1;31mIndentationError\u001b[0m\u001b[1;31m:\u001b[0m unindent does not match any outer indentation level\n"
     ]
    }
   ],
   "source": [
    "a = [1, 1, 2, 3, 5, 8, 13, 21, 34, 55, 89]\n",
    "i=a;\n",
    "for i in a :\n",
    "     if (i < 5) :\n",
    "    print(i)\n",
    "    "
   ]
  },
  {
   "cell_type": "code",
   "execution_count": null,
   "metadata": {},
   "outputs": [],
   "source": []
  },
  {
   "cell_type": "code",
   "execution_count": null,
   "metadata": {},
   "outputs": [],
   "source": []
  },
  {
   "cell_type": "code",
   "execution_count": null,
   "metadata": {},
   "outputs": [],
   "source": []
  },
  {
   "cell_type": "code",
   "execution_count": null,
   "metadata": {},
   "outputs": [],
   "source": []
  },
  {
   "cell_type": "code",
   "execution_count": null,
   "metadata": {},
   "outputs": [],
   "source": []
  },
  {
   "cell_type": "code",
   "execution_count": null,
   "metadata": {},
   "outputs": [],
   "source": []
  },
  {
   "cell_type": "code",
   "execution_count": null,
   "metadata": {},
   "outputs": [],
   "source": []
  },
  {
   "cell_type": "code",
   "execution_count": null,
   "metadata": {},
   "outputs": [],
   "source": []
  }
 ],
 "metadata": {
  "kernelspec": {
   "display_name": "Python 3",
   "language": "python",
   "name": "python3"
  },
  "language_info": {
   "codemirror_mode": {
    "name": "ipython",
    "version": 3
   },
   "file_extension": ".py",
   "mimetype": "text/x-python",
   "name": "python",
   "nbconvert_exporter": "python",
   "pygments_lexer": "ipython3",
   "version": "3.7.4"
  }
 },
 "nbformat": 4,
 "nbformat_minor": 2
}
